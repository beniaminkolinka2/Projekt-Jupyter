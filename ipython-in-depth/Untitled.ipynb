{
 "cells": [
  {
   "cell_type": "markdown",
   "metadata": {},
   "source": [
    "### Analiza opadów deszczu w Indiach, w latach 1991-2016\n",
    "\n",
    "Użyty plik: https://climateknowledgeportal.worldbank.org/api/data/get-download-data/historical/pr/1991-2016/IND/India   \n",
    "Dane z databank.worldbank.org"
   ]
  },
  {
   "cell_type": "code",
   "execution_count": 52,
   "metadata": {},
   "outputs": [],
   "source": [
    "data = {}\n",
    "with open(\"pr_1991_2016_IND.csv\") as f:\n",
    "\n",
    "    # przeczytaj plik, iteruj po liniach...\n",
    "    for line in f.readlines():\n",
    "\n",
    "        # wyłuskaj interesujące nas wartości\n",
    "        t_str, y_str, m_str = line.split(\",\")\n",
    "\n",
    "        # konwertuj odczytane wartości na odpowiednie typy\n",
    "        t, y, m = float(t_str), int(y_str), m_str.strip().lower()\n",
    "\n",
    "        # zapisz do zmiennej\n",
    "        data[y] = data.get(y, {})\n",
    "        data[y][m] = t"
   ]
  },
  {
   "cell_type": "markdown",
   "metadata": {},
   "source": [
    "### Przykład 1: Najbardziej suchy i najbardziej mokry miesiąc w Indiach na przestrzeni 1991-2016\n"
   ]
  },
  {
   "cell_type": "code",
   "execution_count": 60,
   "metadata": {},
   "outputs": [
    {
     "name": "stdout",
     "output_type": "stream",
     "text": [
      "322.162\n",
      "7.65333\n",
      "Najniższa średnia temperatura wystąpiła dec average 1991: 11.6599°C\n",
      "Najwyższa średnia temperatura wystąpiła aug average 2011: 324.397°C\n"
     ]
    }
   ],
   "source": [
    "top_y, top_m, top_t = 0, 0, 0\n",
    "bot_y, bot_m, bot_t = 0, 0, 0\n",
    "\n",
    "# przez każdy rok w zestawie danych...\n",
    "for year in data:\n",
    "\n",
    "    # przygotuj słowniki po wartościach temperatur i nazwach miesięcy\n",
    "    months = data[year].values()\n",
    "    temperatures = {v: k for k, v in data[year].items()}\n",
    "\n",
    "    # znajdź minima i maksima\n",
    "    max_months, min_months = max(months), min(months)\n",
    "\n",
    "    # dokonaj porównania z poprzednimi wartościami\n",
    "    if top_t < max_months:\n",
    "        top_y = year\n",
    "        top_t = max_months\n",
    "        top_m = temperatures[top_t]\n",
    "\n",
    "    if bot_t < min_months:\n",
    "        bot_y = year\n",
    "        bot_t = min_months\n",
    "        bot_m = temperatures[bot_t]\n",
    "\n",
    "# wypisz wyniki\n",
    "print(f\"{max_months}\")\n",
    "print(f\"{min_months}\")\n",
    "print(f\"Najniższa średnia temperatura wystąpiła {bot_m} {bot_y}: {bot_t}°C\")\n",
    "print(f\"Najwyższa średnia temperatura wystąpiła {top_m} {top_y}: {top_t}°C\")"
   ]
  },
  {
   "cell_type": "markdown",
   "metadata": {},
   "source": [
    "### Generowanie Wykresu"
   ]
  },
  {
   "cell_type": "code",
   "execution_count": 61,
   "metadata": {},
   "outputs": [],
   "source": [
    "\n",
    "# zaimportuj bibliotekę do obsługi wykresów\n",
    "from matplotlib import pyplot as plt\n",
    "\n",
    "# rysuj wykres w notatniku\n",
    "%matplotlib inline\n",
    "\n",
    "# ustaw rozmiar wykresu\n",
    "plt.rcParams[\"figure.figsize\"] = (20.0, 10.0)"
   ]
  },
  {
   "cell_type": "code",
   "execution_count": null,
   "metadata": {},
   "outputs": [],
   "source": []
  }
 ],
 "metadata": {
  "kernelspec": {
   "display_name": "Python 3",
   "language": "python",
   "name": "python3"
  },
  "language_info": {
   "codemirror_mode": {
    "name": "ipython",
    "version": 3
   },
   "file_extension": ".py",
   "mimetype": "text/x-python",
   "name": "python",
   "nbconvert_exporter": "python",
   "pygments_lexer": "ipython3",
   "version": "3.8.3"
  }
 },
 "nbformat": 4,
 "nbformat_minor": 4
}
