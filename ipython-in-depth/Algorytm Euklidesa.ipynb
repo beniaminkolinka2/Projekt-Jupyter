{
 "cells": [
  {
   "cell_type": "markdown",
   "metadata": {},
   "source": [
    "### 1. Algorytm Euklidesa - Historia i działanie Algorytmu."
   ]
  },
  {
   "cell_type": "markdown",
   "metadata": {},
   "source": [
    "**Algorytm Euklidesa** po raz pirwszy został opisany przez Greckiego matematyka Euklidesa. Algorytm ten służy do wyznaczania największego wspólnego dzielnika dwóch liczb. \n",
    "Działanie algorytmu polega na braniu dwóch liczb naturalnych, następnie - aby wyznaczyć **największy wspólny dzielnik** tych dwóch liczb, musimy dobrać w **pary** mniejszą z tych dwóch liczb, z różnicą liczby mniejszej od większej.\n",
    "Krok ten powtarzamy, aż obie liczby staną się sobie równe - w ten sposób wyznaczyliśmy **największy wspólny dzilnik** wybranych przez nas wcześniej liczb.\n",
    "\n",
    "#### 2. Przykład działania algorytmu:"
   ]
  },
  {
   "cell_type": "code",
   "execution_count": 5,
   "metadata": {},
   "outputs": [
    {
     "name": "stdout",
     "output_type": "stream",
     "text": [
      "Metoda z wydajniejsza: n\n",
      "a = 24; b = 12\n",
      "a = 12; b = 12\n",
      "nNajwiększy wspólny dzielnik liczb 24 i 12 jest równy: 12\n"
     ]
    }
   ],
   "source": [
    "a = 24\n",
    "b = 12\n",
    "\n",
    "\n",
    "    \n",
    "def NWD(a, b):\n",
    "    while a != b:\n",
    "        a, b = max(a, b), min(a, b)\n",
    "        print(\"a = {a}; b = {b}\".format(a = a, b = b))\n",
    "        a = a - b\n",
    "    print(\"a = {a}; b = {b}\".format(a = a, b = b))\n",
    "    return a\n",
    "\n",
    "  \n",
    "print(\"nNajwiększy wspólny dzielnik liczb {a} i {b} jest równy: {NWD}\".format(a = a, b = b, NWD = NWD(a, b)))\n"
   ]
  },
  {
   "cell_type": "code",
   "execution_count": null,
   "metadata": {},
   "outputs": [],
   "source": []
  }
 ],
 "metadata": {
  "kernelspec": {
   "display_name": "Python 3",
   "language": "python",
   "name": "python3"
  },
  "language_info": {
   "codemirror_mode": {
    "name": "ipython",
    "version": 3
   },
   "file_extension": ".py",
   "mimetype": "text/x-python",
   "name": "python",
   "nbconvert_exporter": "python",
   "pygments_lexer": "ipython3",
   "version": "3.8.3"
  }
 },
 "nbformat": 4,
 "nbformat_minor": 4
}
